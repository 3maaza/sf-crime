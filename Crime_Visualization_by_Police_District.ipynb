{
  "nbformat": 4,
  "nbformat_minor": 0,
  "metadata": {
    "colab": {
      "name": "Crime Visualization by Police District.ipynb",
      "provenance": [],
      "authorship_tag": "ABX9TyN+CAswquHIBZ58fv1nyDBq"
    },
    "kernelspec": {
      "name": "python3",
      "display_name": "Python 3"
    }
  },
  "cells": [
    {
      "cell_type": "code",
      "metadata": {
        "id": "vDelgBhloumO",
        "colab_type": "code",
        "outputId": "d0f0c853-adaa-415f-b052-6ac1d354abda",
        "colab": {
          "base_uri": "https://localhost:8080/",
          "height": 492
        }
      },
      "source": [
        "!pip install geopandas"
      ],
      "execution_count": 1,
      "outputs": [
        {
          "output_type": "stream",
          "text": [
            "Collecting geopandas\n",
            "\u001b[?25l  Downloading https://files.pythonhosted.org/packages/5b/0c/e6c99e561b03482220f00443f610ccf4dce9b50f4b1093d735f93c6fc8c6/geopandas-0.6.2-py2.py3-none-any.whl (919kB)\n",
            "\r\u001b[K     |▍                               | 10kB 20.0MB/s eta 0:00:01\r\u001b[K     |▊                               | 20kB 1.8MB/s eta 0:00:01\r\u001b[K     |█                               | 30kB 2.6MB/s eta 0:00:01\r\u001b[K     |█▍                              | 40kB 1.7MB/s eta 0:00:01\r\u001b[K     |█▉                              | 51kB 2.2MB/s eta 0:00:01\r\u001b[K     |██▏                             | 61kB 2.6MB/s eta 0:00:01\r\u001b[K     |██▌                             | 71kB 3.0MB/s eta 0:00:01\r\u001b[K     |██▉                             | 81kB 3.4MB/s eta 0:00:01\r\u001b[K     |███▏                            | 92kB 3.8MB/s eta 0:00:01\r\u001b[K     |███▋                            | 102kB 2.9MB/s eta 0:00:01\r\u001b[K     |████                            | 112kB 2.9MB/s eta 0:00:01\r\u001b[K     |████▎                           | 122kB 2.9MB/s eta 0:00:01\r\u001b[K     |████▋                           | 133kB 2.9MB/s eta 0:00:01\r\u001b[K     |█████                           | 143kB 2.9MB/s eta 0:00:01\r\u001b[K     |█████▍                          | 153kB 2.9MB/s eta 0:00:01\r\u001b[K     |█████▊                          | 163kB 2.9MB/s eta 0:00:01\r\u001b[K     |██████                          | 174kB 2.9MB/s eta 0:00:01\r\u001b[K     |██████▍                         | 184kB 2.9MB/s eta 0:00:01\r\u001b[K     |██████▊                         | 194kB 2.9MB/s eta 0:00:01\r\u001b[K     |███████▏                        | 204kB 2.9MB/s eta 0:00:01\r\u001b[K     |███████▌                        | 215kB 2.9MB/s eta 0:00:01\r\u001b[K     |███████▉                        | 225kB 2.9MB/s eta 0:00:01\r\u001b[K     |████████▏                       | 235kB 2.9MB/s eta 0:00:01\r\u001b[K     |████████▌                       | 245kB 2.9MB/s eta 0:00:01\r\u001b[K     |█████████                       | 256kB 2.9MB/s eta 0:00:01\r\u001b[K     |█████████▎                      | 266kB 2.9MB/s eta 0:00:01\r\u001b[K     |█████████▋                      | 276kB 2.9MB/s eta 0:00:01\r\u001b[K     |██████████                      | 286kB 2.9MB/s eta 0:00:01\r\u001b[K     |██████████▎                     | 296kB 2.9MB/s eta 0:00:01\r\u001b[K     |██████████▊                     | 307kB 2.9MB/s eta 0:00:01\r\u001b[K     |███████████                     | 317kB 2.9MB/s eta 0:00:01\r\u001b[K     |███████████▍                    | 327kB 2.9MB/s eta 0:00:01\r\u001b[K     |███████████▊                    | 337kB 2.9MB/s eta 0:00:01\r\u001b[K     |████████████                    | 348kB 2.9MB/s eta 0:00:01\r\u001b[K     |████████████▌                   | 358kB 2.9MB/s eta 0:00:01\r\u001b[K     |████████████▉                   | 368kB 2.9MB/s eta 0:00:01\r\u001b[K     |█████████████▏                  | 378kB 2.9MB/s eta 0:00:01\r\u001b[K     |█████████████▌                  | 389kB 2.9MB/s eta 0:00:01\r\u001b[K     |██████████████                  | 399kB 2.9MB/s eta 0:00:01\r\u001b[K     |██████████████▎                 | 409kB 2.9MB/s eta 0:00:01\r\u001b[K     |██████████████▋                 | 419kB 2.9MB/s eta 0:00:01\r\u001b[K     |███████████████                 | 430kB 2.9MB/s eta 0:00:01\r\u001b[K     |███████████████▎                | 440kB 2.9MB/s eta 0:00:01\r\u001b[K     |███████████████▊                | 450kB 2.9MB/s eta 0:00:01\r\u001b[K     |████████████████                | 460kB 2.9MB/s eta 0:00:01\r\u001b[K     |████████████████▍               | 471kB 2.9MB/s eta 0:00:01\r\u001b[K     |████████████████▊               | 481kB 2.9MB/s eta 0:00:01\r\u001b[K     |█████████████████               | 491kB 2.9MB/s eta 0:00:01\r\u001b[K     |█████████████████▌              | 501kB 2.9MB/s eta 0:00:01\r\u001b[K     |█████████████████▉              | 512kB 2.9MB/s eta 0:00:01\r\u001b[K     |██████████████████▏             | 522kB 2.9MB/s eta 0:00:01\r\u001b[K     |██████████████████▌             | 532kB 2.9MB/s eta 0:00:01\r\u001b[K     |██████████████████▉             | 542kB 2.9MB/s eta 0:00:01\r\u001b[K     |███████████████████▎            | 552kB 2.9MB/s eta 0:00:01\r\u001b[K     |███████████████████▋            | 563kB 2.9MB/s eta 0:00:01\r\u001b[K     |████████████████████            | 573kB 2.9MB/s eta 0:00:01\r\u001b[K     |████████████████████▎           | 583kB 2.9MB/s eta 0:00:01\r\u001b[K     |████████████████████▋           | 593kB 2.9MB/s eta 0:00:01\r\u001b[K     |█████████████████████           | 604kB 2.9MB/s eta 0:00:01\r\u001b[K     |█████████████████████▍          | 614kB 2.9MB/s eta 0:00:01\r\u001b[K     |█████████████████████▊          | 624kB 2.9MB/s eta 0:00:01\r\u001b[K     |██████████████████████          | 634kB 2.9MB/s eta 0:00:01\r\u001b[K     |██████████████████████▍         | 645kB 2.9MB/s eta 0:00:01\r\u001b[K     |██████████████████████▉         | 655kB 2.9MB/s eta 0:00:01\r\u001b[K     |███████████████████████▏        | 665kB 2.9MB/s eta 0:00:01\r\u001b[K     |███████████████████████▌        | 675kB 2.9MB/s eta 0:00:01\r\u001b[K     |███████████████████████▉        | 686kB 2.9MB/s eta 0:00:01\r\u001b[K     |████████████████████████▏       | 696kB 2.9MB/s eta 0:00:01\r\u001b[K     |████████████████████████▋       | 706kB 2.9MB/s eta 0:00:01\r\u001b[K     |█████████████████████████       | 716kB 2.9MB/s eta 0:00:01\r\u001b[K     |█████████████████████████▎      | 727kB 2.9MB/s eta 0:00:01\r\u001b[K     |█████████████████████████▋      | 737kB 2.9MB/s eta 0:00:01\r\u001b[K     |██████████████████████████      | 747kB 2.9MB/s eta 0:00:01\r\u001b[K     |██████████████████████████▍     | 757kB 2.9MB/s eta 0:00:01\r\u001b[K     |██████████████████████████▊     | 768kB 2.9MB/s eta 0:00:01\r\u001b[K     |███████████████████████████     | 778kB 2.9MB/s eta 0:00:01\r\u001b[K     |███████████████████████████▍    | 788kB 2.9MB/s eta 0:00:01\r\u001b[K     |███████████████████████████▉    | 798kB 2.9MB/s eta 0:00:01\r\u001b[K     |████████████████████████████▏   | 808kB 2.9MB/s eta 0:00:01\r\u001b[K     |████████████████████████████▌   | 819kB 2.9MB/s eta 0:00:01\r\u001b[K     |████████████████████████████▉   | 829kB 2.9MB/s eta 0:00:01\r\u001b[K     |█████████████████████████████▏  | 839kB 2.9MB/s eta 0:00:01\r\u001b[K     |█████████████████████████████▋  | 849kB 2.9MB/s eta 0:00:01\r\u001b[K     |██████████████████████████████  | 860kB 2.9MB/s eta 0:00:01\r\u001b[K     |██████████████████████████████▎ | 870kB 2.9MB/s eta 0:00:01\r\u001b[K     |██████████████████████████████▋ | 880kB 2.9MB/s eta 0:00:01\r\u001b[K     |███████████████████████████████ | 890kB 2.9MB/s eta 0:00:01\r\u001b[K     |███████████████████████████████▍| 901kB 2.9MB/s eta 0:00:01\r\u001b[K     |███████████████████████████████▊| 911kB 2.9MB/s eta 0:00:01\r\u001b[K     |████████████████████████████████| 921kB 2.9MB/s \n",
            "\u001b[?25hRequirement already satisfied: shapely in /usr/local/lib/python3.6/dist-packages (from geopandas) (1.6.4.post2)\n",
            "Collecting fiona\n",
            "\u001b[?25l  Downloading https://files.pythonhosted.org/packages/50/f7/9899f8a9a2e38601472fe1079ce5088f58833221c8b8507d8b5eafd5404a/Fiona-1.8.13-cp36-cp36m-manylinux1_x86_64.whl (11.8MB)\n",
            "\u001b[K     |████████████████████████████████| 11.8MB 55.4MB/s \n",
            "\u001b[?25hRequirement already satisfied: pandas>=0.23.0 in /usr/local/lib/python3.6/dist-packages (from geopandas) (0.25.3)\n",
            "Collecting pyproj\n",
            "\u001b[?25l  Downloading https://files.pythonhosted.org/packages/d6/70/eedc98cd52b86de24a1589c762612a98bea26cde649ffdd60c1db396cce8/pyproj-2.4.2.post1-cp36-cp36m-manylinux2010_x86_64.whl (10.1MB)\n",
            "\u001b[K     |████████████████████████████████| 10.1MB 36.1MB/s \n",
            "\u001b[?25hRequirement already satisfied: attrs>=17 in /usr/local/lib/python3.6/dist-packages (from fiona->geopandas) (19.3.0)\n",
            "Collecting click-plugins>=1.0\n",
            "  Downloading https://files.pythonhosted.org/packages/e9/da/824b92d9942f4e472702488857914bdd50f73021efea15b4cad9aca8ecef/click_plugins-1.1.1-py2.py3-none-any.whl\n",
            "Collecting munch\n",
            "  Downloading https://files.pythonhosted.org/packages/cc/ab/85d8da5c9a45e072301beb37ad7f833cd344e04c817d97e0cc75681d248f/munch-2.5.0-py2.py3-none-any.whl\n",
            "Collecting cligj>=0.5\n",
            "  Downloading https://files.pythonhosted.org/packages/e4/be/30a58b4b0733850280d01f8bd132591b4668ed5c7046761098d665ac2174/cligj-0.5.0-py3-none-any.whl\n",
            "Requirement already satisfied: click<8,>=4.0 in /usr/local/lib/python3.6/dist-packages (from fiona->geopandas) (7.0)\n",
            "Requirement already satisfied: six>=1.7 in /usr/local/lib/python3.6/dist-packages (from fiona->geopandas) (1.12.0)\n",
            "Requirement already satisfied: python-dateutil>=2.6.1 in /usr/local/lib/python3.6/dist-packages (from pandas>=0.23.0->geopandas) (2.6.1)\n",
            "Requirement already satisfied: numpy>=1.13.3 in /usr/local/lib/python3.6/dist-packages (from pandas>=0.23.0->geopandas) (1.17.5)\n",
            "Requirement already satisfied: pytz>=2017.2 in /usr/local/lib/python3.6/dist-packages (from pandas>=0.23.0->geopandas) (2018.9)\n",
            "Installing collected packages: click-plugins, munch, cligj, fiona, pyproj, geopandas\n",
            "Successfully installed click-plugins-1.1.1 cligj-0.5.0 fiona-1.8.13 geopandas-0.6.2 munch-2.5.0 pyproj-2.4.2.post1\n"
          ],
          "name": "stdout"
        }
      ]
    },
    {
      "cell_type": "code",
      "metadata": {
        "id": "A6dVzpnnm7td",
        "colab_type": "code",
        "colab": {}
      },
      "source": [
        "%matplotlib inline\n",
        "import pandas as pd\n",
        "import numpy as np\n",
        "import matplotlib.pyplot as plt\n",
        "import geopandas as gpd\n",
        "from shapely.geometry import Point"
      ],
      "execution_count": 0,
      "outputs": []
    },
    {
      "cell_type": "code",
      "metadata": {
        "id": "7QRAJxtBm_bf",
        "colab_type": "code",
        "colab": {}
      },
      "source": [
        "data = pd.read_csv(\"train.csv\")"
      ],
      "execution_count": 0,
      "outputs": []
    },
    {
      "cell_type": "markdown",
      "metadata": {
        "id": "T8NiJRGfp8x3",
        "colab_type": "text"
      },
      "source": [
        "Remove unreasonable coordinates"
      ]
    },
    {
      "cell_type": "code",
      "metadata": {
        "id": "ObXI7a8Hu2Dw",
        "colab_type": "code",
        "colab": {
          "base_uri": "https://localhost:8080/",
          "height": 90
        },
        "outputId": "ec57f4b9-ceaa-439a-a19e-d59be43eba56"
      },
      "source": [
        "print(\"Longitude Min: {}\".format(data[\"X\"].min()))\n",
        "print(\"Longitude Max: {}\".format(data[\"X\"].max()))\n",
        "print(\"Latitude Min: {}\".format(data[\"Y\"].min()))\n",
        "print(\"Latitude Min: {}\".format(data[\"Y\"].max()))"
      ],
      "execution_count": 4,
      "outputs": [
        {
          "output_type": "stream",
          "text": [
            "Longitude Min: -122.51364206429\n",
            "Longitude Max: -120.5\n",
            "Latitude Min: 37.7078790224135\n",
            "Latitude Min: 90.0\n"
          ],
          "name": "stdout"
        }
      ]
    },
    {
      "cell_type": "code",
      "metadata": {
        "id": "kD8rIBmXqHpr",
        "colab_type": "code",
        "colab": {}
      },
      "source": [
        "data = data[data[\"Y\"] <= 40]"
      ],
      "execution_count": 0,
      "outputs": []
    },
    {
      "cell_type": "code",
      "metadata": {
        "id": "rb-hSn2epqzb",
        "colab_type": "code",
        "colab": {}
      },
      "source": [
        "data = data.sample(n=1000)"
      ],
      "execution_count": 0,
      "outputs": []
    },
    {
      "cell_type": "code",
      "metadata": {
        "id": "L7hVQoCSnizX",
        "colab_type": "code",
        "colab": {}
      },
      "source": [
        "data[\"points\"] = data.apply(lambda row: Point(row[\"X\"], row[\"Y\"]), axis=1)"
      ],
      "execution_count": 0,
      "outputs": []
    },
    {
      "cell_type": "code",
      "metadata": {
        "id": "eB-ZrkBrn6p8",
        "colab_type": "code",
        "outputId": "eea348bf-bc11-458c-c52a-36291989457b",
        "colab": {
          "base_uri": "https://localhost:8080/",
          "height": 371
        }
      },
      "source": [
        "data.head()"
      ],
      "execution_count": 8,
      "outputs": [
        {
          "output_type": "execute_result",
          "data": {
            "text/html": [
              "<div>\n",
              "<style scoped>\n",
              "    .dataframe tbody tr th:only-of-type {\n",
              "        vertical-align: middle;\n",
              "    }\n",
              "\n",
              "    .dataframe tbody tr th {\n",
              "        vertical-align: top;\n",
              "    }\n",
              "\n",
              "    .dataframe thead th {\n",
              "        text-align: right;\n",
              "    }\n",
              "</style>\n",
              "<table border=\"1\" class=\"dataframe\">\n",
              "  <thead>\n",
              "    <tr style=\"text-align: right;\">\n",
              "      <th></th>\n",
              "      <th>Dates</th>\n",
              "      <th>Category</th>\n",
              "      <th>Descript</th>\n",
              "      <th>DayOfWeek</th>\n",
              "      <th>PdDistrict</th>\n",
              "      <th>Resolution</th>\n",
              "      <th>Address</th>\n",
              "      <th>X</th>\n",
              "      <th>Y</th>\n",
              "      <th>points</th>\n",
              "    </tr>\n",
              "  </thead>\n",
              "  <tbody>\n",
              "    <tr>\n",
              "      <th>607802</th>\n",
              "      <td>2006-10-02 08:54:00</td>\n",
              "      <td>WARRANTS</td>\n",
              "      <td>ENROUTE TO OUTSIDE JURISDICTION</td>\n",
              "      <td>Monday</td>\n",
              "      <td>INGLESIDE</td>\n",
              "      <td>ARREST, BOOKED</td>\n",
              "      <td>100 Block of ALEMANY BL</td>\n",
              "      <td>-122.409215</td>\n",
              "      <td>37.736173</td>\n",
              "      <td>POINT (-122.409215255969 37.7361732498955)</td>\n",
              "    </tr>\n",
              "    <tr>\n",
              "      <th>147928</th>\n",
              "      <td>2013-05-30 08:30:00</td>\n",
              "      <td>LARCENY/THEFT</td>\n",
              "      <td>GRAND THEFT FROM LOCKED AUTO</td>\n",
              "      <td>Thursday</td>\n",
              "      <td>NORTHERN</td>\n",
              "      <td>NONE</td>\n",
              "      <td>500 Block of TURK ST</td>\n",
              "      <td>-122.418193</td>\n",
              "      <td>37.782326</td>\n",
              "      <td>POINT (-122.418192861208 37.78232633689221)</td>\n",
              "    </tr>\n",
              "    <tr>\n",
              "      <th>141071</th>\n",
              "      <td>2013-06-29 18:00:00</td>\n",
              "      <td>LARCENY/THEFT</td>\n",
              "      <td>PETTY THEFT OF PROPERTY</td>\n",
              "      <td>Saturday</td>\n",
              "      <td>SOUTHERN</td>\n",
              "      <td>NONE</td>\n",
              "      <td>700 Block of THE EMBARCADEROSOUTH ST</td>\n",
              "      <td>-122.400712</td>\n",
              "      <td>37.802385</td>\n",
              "      <td>POINT (-122.40071180486 37.80238450205921)</td>\n",
              "    </tr>\n",
              "    <tr>\n",
              "      <th>857264</th>\n",
              "      <td>2003-04-14 16:00:00</td>\n",
              "      <td>MISSING PERSON</td>\n",
              "      <td>MISSING ADULT</td>\n",
              "      <td>Monday</td>\n",
              "      <td>RICHMOND</td>\n",
              "      <td>LOCATED</td>\n",
              "      <td>2500 Block of SUTTER ST</td>\n",
              "      <td>-122.442387</td>\n",
              "      <td>37.784984</td>\n",
              "      <td>POINT (-122.442386593523 37.7849835227905)</td>\n",
              "    </tr>\n",
              "    <tr>\n",
              "      <th>54120</th>\n",
              "      <td>2014-08-23 12:11:00</td>\n",
              "      <td>FRAUD</td>\n",
              "      <td>FALSE ID TO PEACE OFFICER</td>\n",
              "      <td>Saturday</td>\n",
              "      <td>TENDERLOIN</td>\n",
              "      <td>NONE</td>\n",
              "      <td>400 Block of ELLIS ST</td>\n",
              "      <td>-122.413609</td>\n",
              "      <td>37.784697</td>\n",
              "      <td>POINT (-122.413609328985 37.784696907904)</td>\n",
              "    </tr>\n",
              "  </tbody>\n",
              "</table>\n",
              "</div>"
            ],
            "text/plain": [
              "                      Dates  ...                                       points\n",
              "607802  2006-10-02 08:54:00  ...   POINT (-122.409215255969 37.7361732498955)\n",
              "147928  2013-05-30 08:30:00  ...  POINT (-122.418192861208 37.78232633689221)\n",
              "141071  2013-06-29 18:00:00  ...   POINT (-122.40071180486 37.80238450205921)\n",
              "857264  2003-04-14 16:00:00  ...   POINT (-122.442386593523 37.7849835227905)\n",
              "54120   2014-08-23 12:11:00  ...    POINT (-122.413609328985 37.784696907904)\n",
              "\n",
              "[5 rows x 10 columns]"
            ]
          },
          "metadata": {
            "tags": []
          },
          "execution_count": 8
        }
      ]
    },
    {
      "cell_type": "code",
      "metadata": {
        "id": "P5fhsogIn-GM",
        "colab_type": "code",
        "colab": {}
      },
      "source": [
        "geo_data = gpd.GeoDataFrame(data, geometry=\"points\")\n",
        "geo_data.crs = {\"init\": \"epsg:4326\"}"
      ],
      "execution_count": 0,
      "outputs": []
    },
    {
      "cell_type": "code",
      "metadata": {
        "id": "kmM8p1SToNdn",
        "colab_type": "code",
        "outputId": "d2c4ee33-449b-4683-d8b9-102e15e55881",
        "colab": {
          "base_uri": "https://localhost:8080/",
          "height": 265
        }
      },
      "source": [
        "geo_data.plot()\n",
        "plt.show()"
      ],
      "execution_count": 10,
      "outputs": [
        {
          "output_type": "display_data",
          "data": {
            "image/png": "[encoded data removed]",
            "text/plain": [
              "<Figure size 432x288 with 1 Axes>"
            ]
          },
          "metadata": {
            "tags": []
          }
        }
      ]
    },
    {
      "cell_type": "markdown",
      "metadata": {
        "id": "aP7k9BLtrsbq",
        "colab_type": "text"
      },
      "source": [
        "Police Department Districts"
      ]
    },
    {
      "cell_type": "code",
      "metadata": {
        "id": "UDz_tPoEqaQs",
        "colab_type": "code",
        "outputId": "f98c1dd9-c952-40a6-f50e-b4cf1b8f78a2",
        "colab": {
          "base_uri": "https://localhost:8080/",
          "height": 54
        }
      },
      "source": [
        "data[\"PdDistrict\"].unique()"
      ],
      "execution_count": 11,
      "outputs": [
        {
          "output_type": "execute_result",
          "data": {
            "text/plain": [
              "array(['INGLESIDE', 'NORTHERN', 'SOUTHERN', 'RICHMOND', 'TENDERLOIN',\n",
              "       'MISSION', 'TARAVAL', 'CENTRAL', 'BAYVIEW', 'PARK'], dtype=object)"
            ]
          },
          "metadata": {
            "tags": []
          },
          "execution_count": 11
        }
      ]
    },
    {
      "cell_type": "code",
      "metadata": {
        "id": "T0_poJPIrG6L",
        "colab_type": "code",
        "colab": {}
      },
      "source": [
        "sfpd = gpd.read_file(\"current_police_districts.geojson\")"
      ],
      "execution_count": 0,
      "outputs": []
    },
    {
      "cell_type": "code",
      "metadata": {
        "id": "XCZUHRqarUDL",
        "colab_type": "code",
        "outputId": "7d2a3893-2620-473c-97ad-590e583b619a",
        "colab": {
          "base_uri": "https://localhost:8080/",
          "height": 198
        }
      },
      "source": [
        "sfpd.head()"
      ],
      "execution_count": 13,
      "outputs": [
        {
          "output_type": "execute_result",
          "data": {
            "text/html": [
              "<div>\n",
              "<style scoped>\n",
              "    .dataframe tbody tr th:only-of-type {\n",
              "        vertical-align: middle;\n",
              "    }\n",
              "\n",
              "    .dataframe tbody tr th {\n",
              "        vertical-align: top;\n",
              "    }\n",
              "\n",
              "    .dataframe thead th {\n",
              "        text-align: right;\n",
              "    }\n",
              "</style>\n",
              "<table border=\"1\" class=\"dataframe\">\n",
              "  <thead>\n",
              "    <tr style=\"text-align: right;\">\n",
              "      <th></th>\n",
              "      <th>shape_area</th>\n",
              "      <th>shape_leng</th>\n",
              "      <th>company</th>\n",
              "      <th>shape_le_1</th>\n",
              "      <th>district</th>\n",
              "      <th>geometry</th>\n",
              "    </tr>\n",
              "  </thead>\n",
              "  <tbody>\n",
              "    <tr>\n",
              "      <th>0</th>\n",
              "      <td>91344142.1925</td>\n",
              "      <td>87550.2751419</td>\n",
              "      <td>B</td>\n",
              "      <td>100231.353916</td>\n",
              "      <td>SOUTHERN</td>\n",
              "      <td>MULTIPOLYGON (((-122.39186 37.79425, -122.3917...</td>\n",
              "    </tr>\n",
              "    <tr>\n",
              "      <th>1</th>\n",
              "      <td>201384622.317</td>\n",
              "      <td>163013.798332</td>\n",
              "      <td>C</td>\n",
              "      <td>144143.480351</td>\n",
              "      <td>BAYVIEW</td>\n",
              "      <td>MULTIPOLYGON (((-122.38098 37.76480, -122.3810...</td>\n",
              "    </tr>\n",
              "    <tr>\n",
              "      <th>2</th>\n",
              "      <td>80623839.7922</td>\n",
              "      <td>40152.783389</td>\n",
              "      <td>D</td>\n",
              "      <td>40518.8342346</td>\n",
              "      <td>MISSION</td>\n",
              "      <td>MULTIPOLYGON (((-122.40954 37.76932, -122.4086...</td>\n",
              "    </tr>\n",
              "    <tr>\n",
              "      <th>3</th>\n",
              "      <td>82781685.5603</td>\n",
              "      <td>56493.858208</td>\n",
              "      <td>E</td>\n",
              "      <td>50608.3103205</td>\n",
              "      <td>NORTHERN</td>\n",
              "      <td>MULTIPOLYGON (((-122.43379 37.80793, -122.4337...</td>\n",
              "    </tr>\n",
              "    <tr>\n",
              "      <th>4</th>\n",
              "      <td>11072154.5623</td>\n",
              "      <td>12424.2689691</td>\n",
              "      <td>J</td>\n",
              "      <td>18796.7841847</td>\n",
              "      <td>TENDERLOIN</td>\n",
              "      <td>MULTIPOLYGON (((-122.40217 37.78626, -122.4171...</td>\n",
              "    </tr>\n",
              "  </tbody>\n",
              "</table>\n",
              "</div>"
            ],
            "text/plain": [
              "      shape_area  ...                                           geometry\n",
              "0  91344142.1925  ...  MULTIPOLYGON (((-122.39186 37.79425, -122.3917...\n",
              "1  201384622.317  ...  MULTIPOLYGON (((-122.38098 37.76480, -122.3810...\n",
              "2  80623839.7922  ...  MULTIPOLYGON (((-122.40954 37.76932, -122.4086...\n",
              "3  82781685.5603  ...  MULTIPOLYGON (((-122.43379 37.80793, -122.4337...\n",
              "4  11072154.5623  ...  MULTIPOLYGON (((-122.40217 37.78626, -122.4171...\n",
              "\n",
              "[5 rows x 6 columns]"
            ]
          },
          "metadata": {
            "tags": []
          },
          "execution_count": 13
        }
      ]
    },
    {
      "cell_type": "code",
      "metadata": {
        "id": "KvaK5H-Wrc7l",
        "colab_type": "code",
        "outputId": "214d9ee5-5100-475b-fed4-6eb82896a67b",
        "colab": {
          "base_uri": "https://localhost:8080/",
          "height": 265
        }
      },
      "source": [
        "sfpd.plot()\n",
        "plt.show()"
      ],
      "execution_count": 14,
      "outputs": [
        {
          "output_type": "display_data",
          "data": {
            "image/png": "[encoded data removed]",
            "text/plain": [
              "<Figure size 432x288 with 1 Axes>"
            ]
          },
          "metadata": {
            "tags": []
          }
        }
      ]
    },
    {
      "cell_type": "code",
      "metadata": {
        "id": "wgtvEgT4slnL",
        "colab_type": "code",
        "outputId": "861c3ebf-9d18-474b-c66f-7f23ff96b3b2",
        "colab": {
          "base_uri": "https://localhost:8080/",
          "height": 281
        }
      },
      "source": [
        "fig, ax = plt.subplots(1)\n",
        "sfpd_map = sfpd.plot(ax=ax, color=\"black\")\n",
        "geo_data.plot(ax=sfpd_map, color=\"red\")\n",
        "ax.set_title(\"Crime in San Francisco\")\n",
        "plt.show()"
      ],
      "execution_count": 17,
      "outputs": [
        {
          "output_type": "display_data",
          "data": {
            "image/png": "[encoded data removed]",
            "text/plain": [
              "<Figure size 432x288 with 1 Axes>"
            ]
          },
          "metadata": {
            "tags": []
          }
        }
      ]
    },
    {
      "cell_type": "markdown",
      "metadata": {
        "id": "qDLwE08LnoLe",
        "colab_type": "text"
      },
      "source": [
        "References:\n",
        "\n",
        "\n",
        "*   https://data.sfgov.org/Public-Safety/Current-Police-Districts/wkhw-cjsf\n",
        "\n"
      ]
    }
  ]
}